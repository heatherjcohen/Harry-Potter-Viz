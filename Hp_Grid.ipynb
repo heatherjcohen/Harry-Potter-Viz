{
 "cells": [
  {
   "cell_type": "code",
   "execution_count": 2,
   "metadata": {},
   "outputs": [
    {
     "data": {
      "text/plain": [
       "True"
      ]
     },
     "execution_count": 2,
     "metadata": {},
     "output_type": "execute_result"
    }
   ],
   "source": [
    "import itertools\n",
    "import cv2\n",
    "import os\n",
    "import numpy as np\n",
    "\n",
    "#User defined variables\n",
    "name = \"HP_Grid\" + \".jpg\" \n",
    "margin = 20 #Margin between pictures in pixels\n",
    "w = 4 # Width of the matrix (nb of images)\n",
    "h = 2 # Height of the matrix (nb of images)\n",
    "n = w*h\n",
    "\n",
    "filename_list =  ['viz1156.png', 'viz4014.png', 'viz2715.png',\n",
    "         'viz3516.png', 'viz5917.png', 'viz2550.png', 'viz469.png' ]\n",
    "\n",
    "\n",
    "\n",
    "\n",
    "\n",
    "imgs = [cv2.imread(os.getcwd()+\"/\"+file) for file in filename_list]\n",
    "\n",
    "#Define the shape of the image to be replicated \n",
    "#(all images should have the same shape)\n",
    "img_h, img_w, img_c = imgs[0].shape\n",
    "\n",
    "#Define the margins in x and y directions\n",
    "m_x = margin\n",
    "m_y = margin\n",
    "\n",
    "#Size of the full size image\n",
    "mat_x = img_w * w + m_x * (w - 1)\n",
    "mat_y = img_h * h + m_y * (h - 1)\n",
    "\n",
    "#Create a matrix of zeros of the right size and fill with 255 (so margins end up white)\n",
    "imgmatrix = np.zeros((mat_y, mat_x, img_c),np.uint8)\n",
    "imgmatrix.fill(255)\n",
    "\n",
    "#Prepare an iterable with the right dimensions\n",
    "positions = itertools.product(range(h), range(w))\n",
    "\n",
    "for (y_i, x_i), img in zip(positions, imgs):\n",
    "    x = x_i * (img_w + m_x)\n",
    "    y = y_i * (img_h + m_y)\n",
    "    imgmatrix[y:y+img_h, x:x+img_w, :] = img\n",
    "\n",
    "resized = cv2.resize(imgmatrix, (mat_x,mat_y), interpolation = cv2.INTER_AREA)\n",
    "compression_params = [cv2.IMWRITE_JPEG_QUALITY, 100]\n",
    "cv2.imwrite(name, resized, compression_params)"
   ]
  },
  {
   "cell_type": "code",
   "execution_count": null,
   "metadata": {},
   "outputs": [],
   "source": []
  }
 ],
 "metadata": {
  "kernelspec": {
   "display_name": "Python 3",
   "language": "python",
   "name": "python3"
  },
  "language_info": {
   "codemirror_mode": {
    "name": "ipython",
    "version": 3
   },
   "file_extension": ".py",
   "mimetype": "text/x-python",
   "name": "python",
   "nbconvert_exporter": "python",
   "pygments_lexer": "ipython3",
   "version": "3.7.6"
  }
 },
 "nbformat": 4,
 "nbformat_minor": 4
}
